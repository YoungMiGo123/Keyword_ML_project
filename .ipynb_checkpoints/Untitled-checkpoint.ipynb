{
 "cells": [
  {
   "cell_type": "code",
   "execution_count": 89,
   "metadata": {},
   "outputs": [],
   "source": [
    "import json\n",
    "from textblob import TextBlob\n",
    "from textblob import Word\n"
   ]
  },
  {
   "cell_type": "code",
   "execution_count": 90,
   "metadata": {},
   "outputs": [],
   "source": [
    "# open output file for reading\n",
    "def getFile(file):\n",
    "    with open(file, 'r') as filehandle:\n",
    "        basicList = json.load(filehandle)\n",
    "        return basicList\n",
    "\n",
    "#removes duplicates\n",
    "def removeDuplicates(oldlist):\n",
    "    newlist = list(set(oldlist))\n",
    "    return newlist\n"
   ]
  },
  {
   "cell_type": "code",
   "execution_count": 91,
   "metadata": {},
   "outputs": [],
   "source": [
    "theList = getFile('keywords.json')\n",
    "\n",
    "newList = removeDuplicates(theList)\n",
    "\n",
    "\n",
    "\n"
   ]
  },
  {
   "cell_type": "code",
   "execution_count": 97,
   "metadata": {},
   "outputs": [
    {
     "name": "stdout",
     "output_type": "stream",
     "text": [
      "hello\n"
     ]
    }
   ],
   "source": [
    "#spell check\n",
    "def spell(a):\n",
    "    b = TextBlob(a)\n",
    "    correct = b.correct()\n",
    "    return correct\n",
    "\n",
    "\n",
    "#Lemmatization -- reducing the word to its root form as found in a dictionary.\n",
    "#options--> ADJ, ADJ_SAT, ADV, NOUN, VERB = 'a', 's', 'r', 'n', 'v'\n",
    "def lemon(a,theType=\"blank\"):\n",
    "    b = Word(a)\n",
    "    \n",
    "    if(theType == \"blank\"):\n",
    "        correct = b.lemmatize()\n",
    "        return correct\n",
    "    else:\n",
    "        correct = b.lemmatize(theType)\n",
    "        return correct\n",
    "    \n",
    "#single    \n",
    "def single(a):\n",
    "    b = Word(a)\n",
    "    correct = b.singularize()\n",
    "    return correct\n",
    "    \n",
    "    \n",
    "arm = spell(\"helloo\")\n",
    "print(arm)\n",
    "    "
   ]
  },
  {
   "cell_type": "code",
   "execution_count": 121,
   "metadata": {},
   "outputs": [
    {
     "name": "stdout",
     "output_type": "stream",
     "text": [
      "<class 'str'>\n",
      "<class 'str'>\n",
      "<class 'str'>\n"
     ]
    }
   ],
   "source": [
    "thelist = ['helloo','dean','pinaapple']\n",
    "new = []\n",
    "\n",
    "for i in range(len(thelist)):\n",
    "    w = str(spell(thelist[i]))\n",
    "    print(type(w))\n",
    "    \n",
    "    \n",
    "    \n",
    "\n",
    "    \n",
    "    "
   ]
  },
  {
   "cell_type": "code",
   "execution_count": null,
   "metadata": {},
   "outputs": [],
   "source": []
  },
  {
   "cell_type": "code",
   "execution_count": null,
   "metadata": {},
   "outputs": [],
   "source": []
  }
 ],
 "metadata": {
  "kernelspec": {
   "display_name": "Python 3",
   "language": "python",
   "name": "python3"
  },
  "language_info": {
   "codemirror_mode": {
    "name": "ipython",
    "version": 3
   },
   "file_extension": ".py",
   "mimetype": "text/x-python",
   "name": "python",
   "nbconvert_exporter": "python",
   "pygments_lexer": "ipython3",
   "version": "3.7.5"
  }
 },
 "nbformat": 4,
 "nbformat_minor": 2
}
